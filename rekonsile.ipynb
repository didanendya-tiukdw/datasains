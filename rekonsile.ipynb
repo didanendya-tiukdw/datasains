{
 "cells": [
  {
   "cell_type": "code",
   "execution_count": 10,
   "metadata": {},
   "outputs": [
    {
     "name": "stdout",
     "output_type": "stream",
     "text": [
      "Rekonsiliasi selesai. Data dengan status disimpan dalam file 'data_rekonsiliasi_dengan_status.xlsx'.\n"
     ]
    }
   ],
   "source": [
    "import pandas as pd\n",
    "\n",
    "# Membaca data dari sheet 1\n",
    "data_sheet1 = pd.read_excel('ADMM_PKK_6.xlsx', sheet_name='Mutasi_Kas')\n",
    "\n",
    "# Membaca data dari sheet 2\n",
    "data_sheet2 = pd.read_excel('ADMM_PKK_6.xlsx', sheet_name='Perhitungan_Internal')\n",
    "\n",
    "# Menggabungkan data dari kedua sheet berdasarkan kolom yang sesuai\n",
    "recon_data = pd.merge(data_sheet1, data_sheet2, \n",
    "                      left_on='BKM', \n",
    "                      right_on='BKK', \n",
    "                      how='outer', indicator=True)\n",
    "\n",
    "# Mencari perbedaan antara data dari kedua sheet\n",
    "data_tidak_cocok = recon_data[recon_data['BKM'] != recon_data['BKK']]\n",
    "\n",
    "# Menyimpan data tidak cocok ke file Excel\n",
    "data_tidak_cocok.to_excel('data_tidak_cocok.xlsx', index=False)\n",
    "\n",
    "# Menambahkan kolom \"Status\" pada sheet pertama\n",
    "data_sheet1['Status'] = ''\n",
    "\n",
    "# Mencari baris yang cocok berdasarkan kolom lainnya\n",
    "matching_rows = recon_data[recon_data['BKM'] == recon_data['BKK']]\n",
    "\n",
    "# Mengidentifikasi baris yang tidak cocok berdasarkan kolom pembanding\n",
    "data_sheet1.loc[data_sheet1['BKM'].isin(data_tidak_cocok['BKK']), 'Status'] = 'Tidak Cocok'\n",
    "\n",
    "# Mengubah status menjadi \"Cocok\" untuk baris yang cocok\n",
    "data_sheet1.loc[recon_data['BKM'].isin(matching_rows['BKK']), 'Status'] = 'Cocok'\n",
    "\n",
    "# Menyimpan data dengan status ke file Excel\n",
    "with pd.ExcelWriter('data_rekonsiliasi_dengan_status.xlsx') as writer:\n",
    "    data_sheet1.to_excel(writer, sheet_name='Mutasi_Kas', index=False)\n",
    "    data_sheet2.to_excel(writer, sheet_name='Perhitungan_Internal', index=False)\n",
    "\n",
    "print(\"Rekonsiliasi selesai. Data dengan status disimpan dalam file 'data_rekonsiliasi_dengan_status.xlsx'.\")"
   ]
  }
 ],
 "metadata": {
  "kernelspec": {
   "display_name": "Datasains",
   "language": "python",
   "name": "python3"
  },
  "language_info": {
   "codemirror_mode": {
    "name": "ipython",
    "version": 3
   },
   "file_extension": ".py",
   "mimetype": "text/x-python",
   "name": "python",
   "nbconvert_exporter": "python",
   "pygments_lexer": "ipython3",
   "version": "3.9.16"
  },
  "orig_nbformat": 4
 },
 "nbformat": 4,
 "nbformat_minor": 2
}
