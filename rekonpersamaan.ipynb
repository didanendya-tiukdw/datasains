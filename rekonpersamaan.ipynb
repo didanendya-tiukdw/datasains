{
 "cells": [
  {
   "cell_type": "code",
   "execution_count": 1,
   "metadata": {},
   "outputs": [
    {
     "name": "stdout",
     "output_type": "stream",
     "text": [
      "Rekonsiliasi selesai. Hasil rekonsiliasi disimpan dalam file 'data_rekonsiliasi_hasil.xlsx'.\n"
     ]
    }
   ],
   "source": [
    "import pandas as pd\n",
    "\n",
    "# Membaca data dari sheet 1\n",
    "data_sheet1 = pd.read_excel('ADMM_PKK_6.xlsx', sheet_name='Mutasi_Kas')\n",
    "\n",
    "# Membaca data dari sheet 2\n",
    "data_sheet2 = pd.read_excel('ADMM_PKK_6.xlsx', sheet_name='Perhitungan_Internal')\n",
    "\n",
    "# Menggabungkan data dari kedua sheet berdasarkan kolom yang sesuai\n",
    "recon_data = pd.merge(data_sheet1, data_sheet2, \n",
    "                      left_on='BKM', \n",
    "                      right_on='BKK', \n",
    "                      how='outer', indicator=True)\n",
    "\n",
    "# Menyimpan data hasil rekonsiliasi ke file Excel\n",
    "recon_data.to_excel('data_rekonsiliasi_hasil.xlsx', index=False)\n",
    "\n",
    "print(\"Rekonsiliasi selesai. Hasil rekonsiliasi disimpan dalam file 'data_rekonsiliasi_hasil.xlsx'.\")\n"
   ]
  }
 ],
 "metadata": {
  "kernelspec": {
   "display_name": "Datasains",
   "language": "python",
   "name": "python3"
  },
  "language_info": {
   "codemirror_mode": {
    "name": "ipython",
    "version": 3
   },
   "file_extension": ".py",
   "mimetype": "text/x-python",
   "name": "python",
   "nbconvert_exporter": "python",
   "pygments_lexer": "ipython3",
   "version": "3.9.16"
  },
  "orig_nbformat": 4
 },
 "nbformat": 4,
 "nbformat_minor": 2
}
